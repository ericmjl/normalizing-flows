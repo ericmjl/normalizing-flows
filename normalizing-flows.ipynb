{
 "cells": [
  {
   "cell_type": "code",
   "execution_count": 1,
   "metadata": {},
   "outputs": [],
   "source": [
    "%load_ext autoreload\n",
    "%autoreload 2\n",
    "%matplotlib inline\n",
    "%config InlineBackend.figure_format = 'retina'"
   ]
  },
  {
   "cell_type": "code",
   "execution_count": 4,
   "metadata": {},
   "outputs": [],
   "source": [
    "from fundl.layers.normalizing_flow import K_planar_flows\n",
    "from fundl.weights import add_K_planar_flow_params\n",
    "import autograd.numpy as np\n",
    "import matplotlib.pyplot as plt\n",
    "import seaborn as sns"
   ]
  },
  {
   "cell_type": "markdown",
   "metadata": {},
   "source": [
    "Initialize a normal distribution"
   ]
  },
  {
   "cell_type": "markdown",
   "metadata": {},
   "source": [
    "# Adjust planar flow param initializations\n",
    "\n",
    "What if we started with planar flow params that were initialized way outside of normal(0, 1)?"
   ]
  },
  {
   "cell_type": "code",
   "execution_count": 10,
   "metadata": {},
   "outputs": [],
   "source": [
    "from autograd.numpy.random import normal\n",
    "def add_planar_flow_params(params, name, dim, p):\n",
    "    \"\"\"\n",
    "    Copied from fundl\n",
    "    \"\"\"\n",
    "    params[name] = dict()\n",
    "    params[name][\"w\"] = normal(size=(dim, 1), **p)\n",
    "    params[name][\"b\"] = normal(**p)\n",
    "    params[name][\"u\"] = normal(size=(dim, 1), **p)\n",
    "    return params\n",
    "\n",
    "\n",
    "def add_K_planar_flow_params(params, K, dim, p):\n",
    "    \"\"\"\n",
    "    Copied from fundl\n",
    "    \"\"\"\n",
    "    Ks = []\n",
    "    for i in range(K):\n",
    "        name = f\"planar_flow_{i}\"\n",
    "        params = add_planar_flow_params(params, name, dim, p)\n",
    "        Ks.append(name)\n",
    "    return params, Ks"
   ]
  },
  {
   "cell_type": "code",
   "execution_count": 11,
   "metadata": {},
   "outputs": [],
   "source": [
    "from ipywidgets import interact, FloatSlider, IntSlider"
   ]
  },
  {
   "cell_type": "code",
   "execution_count": 12,
   "metadata": {},
   "outputs": [
    {
     "data": {
      "application/vnd.jupyter.widget-view+json": {
       "model_id": "c9d73b72e3404a1a9b1e239c8cb91035",
       "version_major": 2,
       "version_minor": 0
      },
      "text/plain": [
       "interactive(children=(FloatSlider(value=0.0, description='loc', max=10.0, min=-10.0), FloatSlider(value=0.001,…"
      ]
     },
     "metadata": {},
     "output_type": "display_data"
    }
   ],
   "source": [
    "a = np.random.normal(size=(1000, 1))\n",
    "\n",
    "@interact(\n",
    "    loc=FloatSlider(min=-10, max=10), \n",
    "    scale=FloatSlider(min=0.001, max=20),\n",
    "    K=IntSlider(min=1, max=10)\n",
    ")\n",
    "def plot_original_transformed(loc, scale, K):\n",
    "    p = dict(loc=loc, scale=scale)\n",
    "    params = dict()\n",
    "    params, K_names = add_K_planar_flow_params(params, K=K, dim=1, p=p)\n",
    "    z_tfm, ldj = K_planar_flows(params, a, K_names)\n",
    "    sns.kdeplot(*z_tfm.T, label='transformed')\n",
    "    sns.kdeplot(*a.T, label='original')"
   ]
  },
  {
   "cell_type": "code",
   "execution_count": 20,
   "metadata": {},
   "outputs": [
    {
     "data": {
      "application/vnd.jupyter.widget-view+json": {
       "model_id": "e73572639138433489fd0f78da4d4596",
       "version_major": 2,
       "version_minor": 0
      },
      "text/plain": [
       "interactive(children=(FloatSlider(value=0.0, description='loc', max=10.0, min=-10.0), FloatSlider(value=0.001,…"
      ]
     },
     "metadata": {},
     "output_type": "display_data"
    }
   ],
   "source": [
    "a2 = np.random.multivariate_normal(mean=[0,0], cov=[[1, 0],[0, 1]], size=1000)\n",
    "\n",
    "\n",
    "@interact(\n",
    "    loc=FloatSlider(min=-10, max=10), \n",
    "    scale=FloatSlider(min=0.001, max=20),\n",
    "    K=IntSlider(min=1, max=10)\n",
    ")\n",
    "def plot_multivariate_nf(loc, scale, K):\n",
    "    p = dict(loc=loc, scale=scale)\n",
    "\n",
    "    params = dict()\n",
    "    params, K_names = add_K_planar_flow_params(params, K=K, dim=2, p=p)\n",
    "\n",
    "    z_tfm, ldj = K_planar_flows(params, a2, K_names)\n",
    "    \n",
    "    fig, axes = plt.subplots(nrows=1, ncols=2, figsize=(8, 4), sharex=True, sharey=True)\n",
    "    axes[1].scatter(*z_tfm.T, alpha=0.1)\n",
    "    axes[1].set_title('transformed')\n",
    "\n",
    "    axes[0].scatter(*a2.T, alpha=0.1)\n",
    "    axes[0].set_title('original')"
   ]
  },
  {
   "cell_type": "code",
   "execution_count": null,
   "metadata": {},
   "outputs": [],
   "source": []
  }
 ],
 "metadata": {
  "kernelspec": {
   "display_name": "norm-flow-fun",
   "language": "python",
   "name": "norm-flow-fun"
  },
  "language_info": {
   "codemirror_mode": {
    "name": "ipython",
    "version": 3
   },
   "file_extension": ".py",
   "mimetype": "text/x-python",
   "name": "python",
   "nbconvert_exporter": "python",
   "pygments_lexer": "ipython3",
   "version": "3.6.8"
  }
 },
 "nbformat": 4,
 "nbformat_minor": 2
}
