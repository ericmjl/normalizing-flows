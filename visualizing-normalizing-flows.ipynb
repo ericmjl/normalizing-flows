{
 "cells": [
  {
   "cell_type": "code",
   "execution_count": 2,
   "metadata": {},
   "outputs": [],
   "source": [
    "%load_ext autoreload\n",
    "%autoreload 2\n",
    "%matplotlib inline\n",
    "%config InlineBackend.figure_format = 'retina'"
   ]
  },
  {
   "cell_type": "code",
   "execution_count": 5,
   "metadata": {},
   "outputs": [],
   "source": [
    "from fundl.layers.normalizing_flow import K_planar_flows\n",
    "from fundl.weights import add_K_planar_flow_params\n",
    "import autograd.numpy as np\n",
    "import matplotlib.pyplot as plt\n",
    "import seaborn as sns\n",
    "\n",
    "from ipywidgets import interact, FloatSlider, IntSlider"
   ]
  },
  {
   "cell_type": "markdown",
   "metadata": {},
   "source": [
    "# Normalizing flows\n",
    "\n",
    "This is a demo notebook that shows how normalizing flows work. \n",
    "\n",
    "## What are normalizing flows?\n",
    "\n",
    "They are nothing more than transformations from one probability distribution to another probability distribution.\n",
    "\n",
    "Those of us who have studied probability before have likely seen an example. For example, if \n",
    "\n",
    "$$X \\sim Normal$$\n",
    "\n",
    "and if \n",
    "\n",
    "$$Y = e^X$$\n",
    "\n",
    "Then\n",
    "\n",
    "$$Y \\sim LogNormal$$\n",
    "\n",
    "Here, the exponentiation is an **invertible transform** on a probability distribution.\n",
    "\n",
    "Normalizing Flows are all about using invertible transforms to take a simple probability distribution and convert it into a different, complicated probability distribution.\n",
    "\n",
    "To learn more about normalizing flows, check out the following pages:\n",
    "\n",
    "- http://akosiorek.github.io/ml/2018/04/03/norm_flows.html\n",
    "- https://docs.pymc.io/notebooks/normalizing_flows_overview.html"
   ]
  },
  {
   "cell_type": "markdown",
   "metadata": {},
   "source": [
    "## Planar Flows\n",
    "\n",
    "Planar flows are a type of normalizing flow. According to the [2016 paper on it](https://arxiv.org/abs/1505.05770), planar flows can be thought of as \"squeezers and dilators\" of probability distribution space. Some parts of the probability distribution are squeezed together, while other parts of the probability distribution are dilated. \n",
    "\n",
    "Planar flows are described by the following set of transformations:\n",
    "\n",
    "$$f(\\textbf{z}) = \\textbf{z} + \\textbf{u}\\textit{h}(\\textbf{w}^T\\textbf{z}+b)$$\n",
    "\n",
    "The free parameters in the model are $\\textbf{w}$, $\\textbf{u}$ and $b$, which we can control. $\\textbf{w}$ and $\\textbf{u}$ are bolded because they are vectors, while $b$ is a scalar, and hence is not bolded. $h$ is a nonlinear transformation; in this notebook, I have stuck to the $\\text{tanh}$ function.\n",
    "\n",
    "In the following cell, we will visualize what planar flows do to probability distributions.\n",
    "\n",
    "First off, some utility functions to create the parameters for planar flows."
   ]
  },
  {
   "cell_type": "code",
   "execution_count": 7,
   "metadata": {},
   "outputs": [],
   "source": [
    "from autograd.numpy.random import normal\n",
    "def add_planar_flow_params(params, name, dim, p):\n",
    "    \"\"\"\n",
    "    Instantiates parameters for a planar flow transformation.\n",
    "    \n",
    "    Modified from fundl. \n",
    "    \"\"\"\n",
    "    params[name] = dict()\n",
    "    params[name][\"w\"] = normal(size=(dim, 1), **p)\n",
    "    params[name][\"b\"] = normal(**p)\n",
    "    params[name][\"u\"] = normal(size=(dim, 1), **p)\n",
    "    return params\n",
    "\n",
    "\n",
    "def add_K_planar_flow_params(params, K, dim, p):\n",
    "    \"\"\"\n",
    "    Updates a params dictionary with K planar flow parameters.\n",
    "    \n",
    "    Modified from fundl.\n",
    "    \"\"\"\n",
    "    Ks = []\n",
    "    for i in range(K):\n",
    "        name = f\"planar_flow_{i}\"\n",
    "        params = add_planar_flow_params(params, name, dim, p)\n",
    "        Ks.append(name)\n",
    "    return params, Ks"
   ]
  },
  {
   "cell_type": "markdown",
   "metadata": {},
   "source": [
    "### Instructions: Univariate Distributions\n",
    "\n",
    "In the cell below, we start with 1000 draws from a standard normal distribution. This is the `original`. We then pass it through `K` planar flows.\n",
    "\n",
    "Run the cell below, and then play around with:\n",
    "\n",
    "1. Changing the `loc`ation, holding all else equal.\n",
    "2. Changing `K`, holding all else equal.\n",
    "\n",
    "The `scale` parameter controls the amount of noise in the initialization. Having zero noise lets us explore the effect of `loc` and `K` on the transformed probability distribution."
   ]
  },
  {
   "cell_type": "code",
   "execution_count": 9,
   "metadata": {},
   "outputs": [
    {
     "data": {
      "application/vnd.jupyter.widget-view+json": {
       "model_id": "7ca58b396b644e2facd90bfdaa0c6f95",
       "version_major": 2,
       "version_minor": 0
      },
      "text/plain": [
       "interactive(children=(FloatSlider(value=0.0, description='loc', max=10.0, min=-10.0), FloatSlider(value=0.001,…"
      ]
     },
     "metadata": {},
     "output_type": "display_data"
    }
   ],
   "source": [
    "a = np.random.normal(size=(1000, 1))\n",
    "\n",
    "@interact(\n",
    "    loc=FloatSlider(min=-10, max=10), \n",
    "    scale=FloatSlider(min=0.001, max=20),\n",
    "    K=IntSlider(min=1, max=10)\n",
    ")\n",
    "def plot_original_transformed(loc, scale, K):\n",
    "    p = dict(loc=loc, scale=scale)\n",
    "    params = dict()\n",
    "    params, K_names = add_K_planar_flow_params(params, K=K, dim=1, p=p)\n",
    "    z_tfm, ldj = K_planar_flows(params, a, K_names)\n",
    "    sns.kdeplot(*z_tfm.T, label='transformed')\n",
    "    sns.kdeplot(*a.T, label='original')"
   ]
  },
  {
   "cell_type": "markdown",
   "metadata": {},
   "source": [
    "We initialized with location parameters at zero. With this, the planar transformed distributions are identical to the original. As we change the location, though, the probability distribution starts to shift. \n",
    "\n",
    "If you added noise (changing the `scale` parameter), you can then get a feel for the rich family of probability distributions that are available."
   ]
  },
  {
   "cell_type": "markdown",
   "metadata": {},
   "source": [
    "### Instructions: Bivariate Distributions\n",
    "\n",
    "Same instructions as for the univariate distributions: Change `loc` and/or `scale`, either together or individually, and visualize what happens to the isotropic bivariate Gaussian."
   ]
  },
  {
   "cell_type": "code",
   "execution_count": 10,
   "metadata": {},
   "outputs": [
    {
     "data": {
      "application/vnd.jupyter.widget-view+json": {
       "model_id": "f823dca47045488387dab158e01a5073",
       "version_major": 2,
       "version_minor": 0
      },
      "text/plain": [
       "interactive(children=(FloatSlider(value=0.0, description='loc', max=10.0, min=-10.0), FloatSlider(value=0.001,…"
      ]
     },
     "metadata": {},
     "output_type": "display_data"
    }
   ],
   "source": [
    "a2 = np.random.multivariate_normal(mean=[0,0], cov=[[1, 0],[0, 1]], size=1000)\n",
    "\n",
    "\n",
    "@interact(\n",
    "    loc=FloatSlider(min=-10, max=10), \n",
    "    scale=FloatSlider(min=0.001, max=20),\n",
    "    K=IntSlider(min=1, max=10)\n",
    ")\n",
    "def plot_multivariate_nf(loc, scale, K):\n",
    "    p = dict(loc=loc, scale=scale)\n",
    "\n",
    "    params = dict()\n",
    "    params, K_names = add_K_planar_flow_params(params, K=K, dim=2, p=p)\n",
    "\n",
    "    z_tfm, ldj = K_planar_flows(params, a2, K_names)\n",
    "    \n",
    "    fig, axes = plt.subplots(nrows=1, ncols=2, figsize=(8, 4), sharex=True, sharey=True)\n",
    "    axes[1].scatter(*z_tfm.T, alpha=0.1)\n",
    "    axes[1].set_title('transformed')\n",
    "\n",
    "    axes[0].scatter(*a2.T, alpha=0.1)\n",
    "    axes[0].set_title('original')"
   ]
  },
  {
   "cell_type": "code",
   "execution_count": null,
   "metadata": {},
   "outputs": [],
   "source": []
  }
 ],
 "metadata": {
  "kernelspec": {
   "display_name": "norm-flow-fun",
   "language": "python",
   "name": "norm-flow-fun"
  },
  "language_info": {
   "codemirror_mode": {
    "name": "ipython",
    "version": 3
   },
   "file_extension": ".py",
   "mimetype": "text/x-python",
   "name": "python",
   "nbconvert_exporter": "python",
   "pygments_lexer": "ipython3",
   "version": "3.6.8"
  }
 },
 "nbformat": 4,
 "nbformat_minor": 2
}
